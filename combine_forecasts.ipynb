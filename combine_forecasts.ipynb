{
  "nbformat": 4,
  "nbformat_minor": 0,
  "metadata": {
    "colab": {
      "name": "combine_forecasts.ipynb",
      "provenance": [],
      "collapsed_sections": [
        "8tHouQ80Srve",
        "7Y59s0iwUcVE",
        "-fcrWtonehlp",
        "GrCN49M1hQyt",
        "UtEzhwqrmwEl"
      ],
      "authorship_tag": "ABX9TyM/iaWYjFiIZGqqp9xBunna",
      "include_colab_link": true
    },
    "kernelspec": {
      "name": "python3",
      "display_name": "Python 3"
    }
  },
  "cells": [
    {
      "cell_type": "markdown",
      "metadata": {
        "id": "view-in-github",
        "colab_type": "text"
      },
      "source": [
        "<a href=\"https://colab.research.google.com/github/AnishRSIGM/CombineForecasts/blob/master/combine_forecasts.ipynb\" target=\"_parent\"><img src=\"https://colab.research.google.com/assets/colab-badge.svg\" alt=\"Open In Colab\"/></a>"
      ]
    },
    {
      "cell_type": "markdown",
      "metadata": {
        "colab_type": "text",
        "id": "TvxoOtWysZUS"
      },
      "source": [
        "Python implementation of\n",
        "\n",
        "Shah, Anish, Easy Way to Merge Return Forecasts across Securities and Horizons (September 24, 2019). Available at SSRN: https://ssrn.com/abstract=3459184 or http://dx.doi.org/10.2139/ssrn.3459184"
      ]
    },
    {
      "cell_type": "code",
      "metadata": {
        "id": "LtF7xkBiTX_H",
        "colab_type": "code",
        "colab": {}
      },
      "source": [
        "import numpy as np"
      ],
      "execution_count": 0,
      "outputs": []
    },
    {
      "cell_type": "markdown",
      "metadata": {
        "id": "8tHouQ80Srve",
        "colab_type": "text"
      },
      "source": [
        "### 1. Create dummy data"
      ]
    },
    {
      "cell_type": "code",
      "metadata": {
        "id": "U2EBH_7P43NF",
        "colab_type": "code",
        "colab": {}
      },
      "source": [
        "def dummy_forecasts(m, n):\n",
        "  # function creates dummy forecast data to test forecast combination\n",
        "  # m = # of forecasts\n",
        "  # n = # of securities\n",
        "  # returns:\n",
        "  # start = (m x 1) start periods for forecasts\n",
        "  # end = (m x 1) end periods for forecasts\n",
        "  # P = (m x n) linear combinations forecasted\n",
        "  # y = (m x 1) return forecasts\n",
        "  # H = (m x m) forecast noise covariance\n",
        "  # mu = (n x 1) prior mean of 1 period returns\n",
        "  # C = (n x n) prior covariance of 1 period returns\n",
        "\n",
        "  start = np.random.randint(low=0,high=10,size=m)\n",
        "  end = start + np.random.randint(low=1,high=5,size=m)\n",
        "\n",
        "  s = 0.1\n",
        "  y = s * np.random.random(size=[m,1])\n",
        "  I = np.identity(n)\n",
        "  k = int(np.floor(1.5*m))\n",
        "  r = np.random.randint(low=0, high=n, size=k)\n",
        "  P = I[r[:m],:]  # forecast random individual securities\n",
        "  P[-(k-m):,:] = P[-(k-m):,:] - I[r[m:],:]  # make some spreads\n",
        "  y[-(k-m):] -= s * 0.5 \n",
        "  v = np.random.random(n)\n",
        "  v = np.around(v / v.sum(), 2)\n",
        "  v[np.argmax(v)] -= v.sum() - 1\n",
        "  P[0,:] = v # make first entry a portfolio\n",
        "\n",
        "  Q = np.around(np.random.random(size=[m,m]), 2)\n",
        "  H = 10. * Q.dot(Q.T)\n",
        "\n",
        "  Q = np.around(np.random.random(size=[n,n]), 2)\n",
        "  C = Q.dot(Q.T)\n",
        "  mu = np.around(0.01*(np.random.random(size=[n,1]) - 0.5), 3)\n",
        "  return start, end, P, y, H, mu, C"
      ],
      "execution_count": 0,
      "outputs": []
    },
    {
      "cell_type": "code",
      "metadata": {
        "id": "mQhk4mW4T9HS",
        "colab_type": "code",
        "colab": {}
      },
      "source": [
        "# m = # of forecasts\n",
        "# n = # of securities\n",
        "#\n",
        "# start = (m x 1) start periods for forecasts\n",
        "# end = (m x 1) end periods for forecasts\n",
        "# P = (m x n) linear combinations forecasted\n",
        "# y = (m x 1) return forecasts\n",
        "# H = (m x m) forecast noise covariance\n",
        "# mu = (n x 1) prior mean of 1 period returns\n",
        "# C = (n x n) prior covariance of 1 period returns\n",
        "\n",
        "m = 5  # number of forecasts\n",
        "n = 20 # number of securities\n",
        "start, end, P, y, H, mu, C = dummy_forecasts(m, n)"
      ],
      "execution_count": 0,
      "outputs": []
    },
    {
      "cell_type": "markdown",
      "metadata": {
        "id": "7Y59s0iwUcVE",
        "colab_type": "text"
      },
      "source": [
        "### 2. Segment objects being forecasted into time segments. Then calculate posterior mean and covariance given the forecasts"
      ]
    },
    {
      "cell_type": "code",
      "metadata": {
        "id": "lvZdI8_KYQbM",
        "colab_type": "code",
        "colab": {}
      },
      "source": [
        "# model is y = P x + eps  where eps ~ N(0, H)\n",
        "# x occurs over the intervals start -> end  and prior x over 1 period ~ N(mu, C)\n",
        "# want mean and cov of x over different horizons | y"
      ],
      "execution_count": 0,
      "outputs": []
    },
    {
      "cell_type": "code",
      "metadata": {
        "id": "wGh8bbQiq8jK",
        "colab_type": "code",
        "colab": {}
      },
      "source": [
        "def calculate_posterior_of_segments(start, end, P, H, mu, C, more_horizons=[0.]):\n",
        "\n",
        "  # more_horizons = (list) of points to consider in addition to start and end\n",
        "  #               = [0., 5., 21.]  # e.g. to be able to get 1 week and 1 month return forecasts\n",
        "  m, n = P.shape # num of forecasts x num of securities\n",
        "\n",
        "  # points in ascending order where time needs to be segmented\n",
        "  # Tpts = np.unique((start,end))\n",
        "  Tpts = np.unique([t for x in [start, end, more_horizons] for t in x])\n",
        "\n",
        "  # put forecast start and end in terms of time markers\n",
        "  startpt = np.searchsorted(Tpts, start)\n",
        "  endpt = np.searchsorted(Tpts, end)\n",
        "  assert np.alltrue(Tpts[startpt] == start)\n",
        "  assert np.alltrue(Tpts[endpt] == end)\n",
        "\n",
        "  # break quantities being forecasted into time segments\n",
        "  # e.g. r(0->T) = r(0->T1) + r(T1->T2) + ... + r(Tk-1->T)\n",
        "  nseg = len(Tpts) - 1\n",
        "  nsegvars = n*nseg\n",
        "  Z = np.zeros((m, nsegvars)) # matrix that will hold forecasts in terms of segments\n",
        "  nu = np.zeros((nsegvars,1)) # vector that will hold mean for each segment variable\n",
        "  Omega = np.zeros((nsegvars,nsegvars)) # matrix that will hold cov of segment variables\n",
        "  for i in range(nseg):\n",
        "    l = Tpts[i+1] - Tpts[i]   # number of time periods in segment\n",
        "    sidx = i*n       # start index of variables in time segment\n",
        "    eidx = sidx + n  # end index of variables in time segment\n",
        "    nu[sidx:eidx,:] = l * mu            # mean over segment\n",
        "    Omega[sidx:eidx,sidx:eidx] = l * C  # variance over segment\n",
        "    inseg = (startpt <= i) & (endpt >= i+1)  # True for forecasts that contain segment\n",
        "    Z[inseg, sidx:eidx] = P[inseg,:]    # put coefficients on segment vars involved in forecasts\n",
        "\n",
        "  # now have everything to calculate posterior distribution\n",
        "  ZOmega = Z.dot(Omega)\n",
        "  F = ZOmega.dot(Z.T) + H\n",
        "  # B = Omega Z' inv(F), and F and Omega are symmetric\n",
        "  # B = (ZOmega.T).dot(np.linalg.inv(F))\n",
        "  B = np.linalg.solve(F, ZOmega).T  # computationally better this way\n",
        "\n",
        "  # segment variables given forecasts have\n",
        "  # mean = a_mean + B y   = nu + B (y - Z nu)   where y is the vector of forecasts\n",
        "  # & cov = Sigma\n",
        "  Sigma = Omega - B.dot(ZOmega)\n",
        "  a_mean = nu - B.dot(Z.dot(nu))\n",
        "  return Tpts, a_mean, B, Sigma"
      ],
      "execution_count": 0,
      "outputs": []
    },
    {
      "cell_type": "code",
      "metadata": {
        "id": "O4gvn0fOgTVl",
        "colab_type": "code",
        "colab": {}
      },
      "source": [
        "Tpts, a_mean, B, Sigma = calculate_posterior_of_segments(start, end, P, H, mu, C)"
      ],
      "execution_count": 0,
      "outputs": []
    },
    {
      "cell_type": "markdown",
      "metadata": {
        "id": "-fcrWtonehlp",
        "colab_type": "text"
      },
      "source": [
        "### 3. Now can calculate the mean and cov of any linear combinations of segment variables given the forecasts"
      ]
    },
    {
      "cell_type": "code",
      "metadata": {
        "id": "SgkWkLoWdeZy",
        "colab_type": "code",
        "colab": {
          "base_uri": "https://localhost:8080/",
          "height": 119
        },
        "outputId": "3ef58654-92c4-42cc-d087-7a56d8174e7a"
      },
      "source": [
        "m, n = P.shape\n",
        "nTps = len(Tpts) \n",
        "nsegvars = B.shape[0]\n",
        "\n",
        "print(nTps, \"Tpts -\", Tpts, \"- so\", nTps-1, \"segments\")\n",
        "print(n, \"securities,\", nsegvars, \"security segments\")\n",
        "print(m, \"forecasts\")\n",
        "print(\"a_mean.shape:\", a_mean.shape)\n",
        "print(\"B.shape:\", B.shape)\n",
        "print(\"Sigma.shape\", Sigma.shape)\n",
        "\n",
        "# segment variables given forecasts have\n",
        "# mean = a_mean + B y  and  cov = Sigma    where y is the vector of forecasts"
      ],
      "execution_count": 38,
      "outputs": [
        {
          "output_type": "stream",
          "text": [
            "8 Tpts - [ 0.  4.  5.  6.  7.  8.  9. 10.] - so 7 segments\n",
            "20 securities, 140 security segments\n",
            "5 forecasts\n",
            "a_mean.shape: (140, 1)\n",
            "B.shape: (140, 5)\n",
            "Sigma.shape (140, 140)\n"
          ],
          "name": "stdout"
        }
      ]
    },
    {
      "cell_type": "markdown",
      "metadata": {
        "id": "GrCN49M1hQyt",
        "colab_type": "text"
      },
      "source": [
        "#### A. Example: all the securities over the interval between the 2nd and 4th Tpt"
      ]
    },
    {
      "cell_type": "code",
      "metadata": {
        "id": "q1DXbysQdfP6",
        "colab_type": "code",
        "colab": {}
      },
      "source": [
        "A = np.zeros((n, nsegvars))\n",
        "A[:,n:2*n] = np.identity(n)\n",
        "A[:,2*n:3*n] = np.identity(n)"
      ],
      "execution_count": 0,
      "outputs": []
    },
    {
      "cell_type": "code",
      "metadata": {
        "id": "miyv0pvnidmq",
        "colab_type": "code",
        "colab": {
          "base_uri": "https://localhost:8080/",
          "height": 51
        },
        "outputId": "f66d5988-6d1a-4df8-c5cf-11e0840d5765"
      },
      "source": [
        "# given the forecasts, these segment variable combinations\n",
        "# have mean m0 + M y and cov A Sigma A'\n",
        "m0 = A.dot(a_mean)\n",
        "M = A.dot(B)   # tells how much each forecast contributed\n",
        "pmean = m0 + M.dot(y)\n",
        "pcov = A.dot(Sigma).dot(A.T)\n",
        "print(pmean.shape)\n",
        "print(pcov.shape)"
      ],
      "execution_count": 42,
      "outputs": [
        {
          "output_type": "stream",
          "text": [
            "(20, 1)\n",
            "(20, 20)\n"
          ],
          "name": "stdout"
        }
      ]
    },
    {
      "cell_type": "markdown",
      "metadata": {
        "id": "UtEzhwqrmwEl",
        "colab_type": "text"
      },
      "source": [
        "#### B. Example: the first security over each separate segment"
      ]
    },
    {
      "cell_type": "code",
      "metadata": {
        "id": "YS5wmby2iejg",
        "colab_type": "code",
        "colab": {}
      },
      "source": [
        "nsegs = nTps-1\n",
        "A = np.zeros((nsegs, nsegvars))\n",
        "secnum = 0 # first security\n",
        "for i in range(nsegs):\n",
        "  A[i, i*n + secnum] = 1.   # each row in A is a different interval of the same security"
      ],
      "execution_count": 0,
      "outputs": []
    },
    {
      "cell_type": "code",
      "metadata": {
        "id": "DsAu2oIRl1oV",
        "colab_type": "code",
        "colab": {
          "base_uri": "https://localhost:8080/",
          "height": 51
        },
        "outputId": "aae3a825-27ad-4aa5-ca3c-3339e610c14c"
      },
      "source": [
        "# given the forecasts, these segment variable combinations\n",
        "# have mean m0 + M y and cov A Sigma A'\n",
        "m0 = A.dot(a_mean)\n",
        "M = A.dot(B)   # tells how much each forecast contributed\n",
        "pmean = m0 + M.dot(y)\n",
        "pcov = A.dot(Sigma).dot(A.T)\n",
        "print(pmean.shape)\n",
        "print(pcov.shape)"
      ],
      "execution_count": 60,
      "outputs": [
        {
          "output_type": "stream",
          "text": [
            "(7, 1)\n",
            "(7, 7)\n"
          ],
          "name": "stdout"
        }
      ]
    }
  ]
}